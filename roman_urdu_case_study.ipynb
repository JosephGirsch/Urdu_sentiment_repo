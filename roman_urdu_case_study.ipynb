{
 "cells": [
  {
   "cell_type": "code",
   "execution_count": 29,
   "metadata": {},
   "outputs": [],
   "source": [
    "import os\n",
    "import re\n",
    "import numpy as np\n",
    "import pandas as pd\n",
    "\n",
    "import matplotlib.pyplot as plt\n",
    "import matplotlib.ticker as mtick\n",
    "from scipy.sparse import csr_matrix, hstack\n",
    "\n",
    "from sklearn.base import clone\n",
    "from sklearn.exceptions import ConvergenceWarning\n",
    "from sklearn.utils.class_weight import compute_sample_weight\n",
    "from sklearn.metrics import (\n",
    "    f1_score,\n",
    "    accuracy_score,\n",
    "    confusion_matrix,\n",
    "    classification_report,\n",
    ")\n",
    "from sklearn.preprocessing import StandardScaler\n",
    "from sklearn.feature_extraction.text import TfidfVectorizer\n",
    "from sklearn.model_selection import train_test_split, GridSearchCV\n",
    "from sklearn.pipeline import Pipeline\n",
    "from sklearn.linear_model import LogisticRegression, SGDClassifier\n",
    "from sklearn.svm import LinearSVC\n",
    "from lightgbm import LGBMClassifier\n",
    "from openai import OpenAI\n"
   ]
  },
  {
   "cell_type": "code",
   "execution_count": null,
   "metadata": {},
   "outputs": [],
   "source": []
  },
  {
   "cell_type": "markdown",
   "metadata": {},
   "source": [
    "## Exploratory Analysis"
   ]
  },
  {
   "cell_type": "markdown",
   "metadata": {},
   "source": [
    "#### Load and Examine Data"
   ]
  },
  {
   "cell_type": "code",
   "execution_count": 2,
   "metadata": {},
   "outputs": [
    {
     "name": "stdout",
     "output_type": "stream",
     "text": [
      "(20229, 3)\n",
      "                                                   0         1    2\n",
      "0  Sai kha ya her kisi kay bus ki bat nhi hai lak...  Positive  NaN\n",
      "1                                          sahi bt h  Positive  NaN\n",
      "2                                        Kya bt hai,  Positive  NaN\n",
      "3                                         Wah je wah  Positive  NaN\n",
      "4                               Are wha kaya bat hai  Positive  NaN\n",
      "5                                 Wah kya baat likhi  Positive  NaN\n",
      "6                              Wha Itni sari khubiya  Positive  NaN\n",
      "7                                       Itni khubiya  Positive  NaN\n",
      "8  Ya allah rehm farma hm sab pe or zalimo ko hid...  Positive  NaN\n",
      "9  Please Everyone AllAh S.w.T ka naam hAmesha Ba...  Positive  NaN\n"
     ]
    }
   ],
   "source": [
    "# Read uru csv\n",
    "urdu_csv_path = 'Roman Urdu DataSet.csv'\n",
    "urdu_orig_df = pd.read_csv(urdu_csv_path, header=None)\n",
    "\n",
    "# Copy original and name the fields\n",
    "urdu_df = urdu_orig_df.copy(deep=True)\n",
    "\n",
    "# Data has a 3rd column of almost entirely null values. \n",
    "print(urdu_df.shape)\n",
    "print(urdu_df.head(10))"
   ]
  },
  {
   "cell_type": "markdown",
   "metadata": {},
   "source": [
    "#### Identify Data Cleaning Tasks"
   ]
  },
  {
   "cell_type": "code",
   "execution_count": 3,
   "metadata": {},
   "outputs": [
    {
     "name": "stdout",
     "output_type": "stream",
     "text": [
      "Good                           23\n",
      "<3 CH ADNAN ANSAR GUJJAR <3    18\n",
      ":D                             18\n",
      "Nice                           17\n",
      "Hahaha                         15\n",
      "Shikra                         12\n",
      "                               11\n",
      "Beshak                         10\n",
      "Haha                           10\n",
      "                                9\n",
      "Right                           9\n",
      "                                8\n",
      "good                            8\n",
      "0                               8\n",
      "                                7\n",
      "Ameen                           7\n",
      "                                7\n",
      "Hahahaha                        7\n",
      "Hahahahaha                      6\n",
      "Zabardast                       6\n",
      "Name: 0, dtype: int64\n"
     ]
    }
   ],
   "source": [
    "# The text field has English and blanks in addition to Roman Urdu.\n",
    "print(urdu_df[0].value_counts(dropna=False).head(20))\n"
   ]
  },
  {
   "cell_type": "code",
   "execution_count": 4,
   "metadata": {},
   "outputs": [
    {
     "name": "stdout",
     "output_type": "stream",
     "text": [
      "\n",
      "Sentiment values of blanks:\n",
      "Neutral    112\n",
      "Name: 1, dtype: int64\n"
     ]
    }
   ],
   "source": [
    "# The text field has 112 rows that are null or contain only blanks, all have a ‘Neutral’ sentiment\n",
    "print(\"\\nSentiment values of blanks:\\n\", urdu_df[urdu_df[0].fillna('').str.isspace()][1].value_counts(dropna=False), sep='')\n"
   ]
  },
  {
   "cell_type": "code",
   "execution_count": 5,
   "metadata": {},
   "outputs": [
    {
     "data": {
      "text/plain": [
       "Neutral     8929\n",
       "Positive    6013\n",
       "Negative    5286\n",
       "Neative        1\n",
       "Name: 1, dtype: int64"
      ]
     },
     "execution_count": 5,
     "metadata": {},
     "output_type": "execute_result"
    }
   ],
   "source": [
    "# The ‘sentiment’ field has more than the expected the three expected sentiment values.\n",
    "urdu_df[1].value_counts(dropna=False)"
   ]
  },
  {
   "cell_type": "code",
   "execution_count": 6,
   "metadata": {},
   "outputs": [
    {
     "data": {
      "text/plain": [
       "NaN                 0.999654\n",
       "till here           0.000099\n",
       "----------------    0.000049\n",
       "----------          0.000049\n",
       "-------             0.000049\n",
       "------              0.000049\n",
       "9090                0.000049\n",
       "Name: 2, dtype: float64"
      ]
     },
     "execution_count": 6,
     "metadata": {},
     "output_type": "execute_result"
    }
   ],
   "source": [
    "# The 3rd column is 99.96% null. \n",
    "urdu_df[2].value_counts(normalize=True, dropna=False).head(20)"
   ]
  },
  {
   "cell_type": "code",
   "execution_count": null,
   "metadata": {},
   "outputs": [],
   "source": []
  },
  {
   "cell_type": "markdown",
   "metadata": {},
   "source": [
    "## Data Cleaning:\n",
    "* Drop the 3rd column\n",
    "* Select field name for each column. \n",
    "* Use regex to steamline common sentiment variations.\n",
    "* Streamline all text whitespace, blank rows, and new line characters.\n",
    "* Remove duplicates and print final shape"
   ]
  },
  {
   "cell_type": "code",
   "execution_count": 7,
   "metadata": {},
   "outputs": [],
   "source": [
    "# Drop the 3rd column\n",
    "urdu_df = urdu_df.iloc[:,:2]\n",
    "\n",
    "# Select field name for each column\n",
    "urdu_df.columns = [\"text\",\"sentiment\"]"
   ]
  },
  {
   "cell_type": "code",
   "execution_count": 8,
   "metadata": {},
   "outputs": [
    {
     "name": "stdout",
     "output_type": "stream",
     "text": [
      "\t   Before:\n",
      "Neutral     8929\n",
      "Positive    6013\n",
      "Negative    5286\n",
      "Neative        1\n",
      "Name: sentiment, dtype: int64\n",
      "\n",
      "\n",
      "\t   After:\n",
      "Neutral     8929\n",
      "Positive    6013\n",
      "Negative    5287\n",
      "Name: sentiment, dtype: int64\n"
     ]
    }
   ],
   "source": [
    "# Before applying regex replacements, display the value counts\n",
    "print(\"\\t   Before:\\n\",urdu_df['sentiment'].value_counts(dropna=False), sep='')\n",
    "\n",
    "# Use regex to steamline common sentiment variations\n",
    "urdu_df['sentiment'] = urdu_df['sentiment'].str.replace(r'^p.*', 'Positive', regex=True, flags=re.IGNORECASE)\n",
    "urdu_df['sentiment'] = urdu_df['sentiment'].str.replace(r'^n.*l$', 'Neutral', regex=True, flags=re.IGNORECASE)\n",
    "urdu_df['sentiment'] = urdu_df['sentiment'].str.replace(r'^n.*e$', 'Negative', regex=True, flags=re.IGNORECASE)\n",
    "\n",
    "# Display the value counts after regex replacements\n",
    "print(\"\\n\\n\\t   After:\\n\",urdu_df['sentiment'].value_counts(dropna=False), sep='')"
   ]
  },
  {
   "cell_type": "code",
   "execution_count": 9,
   "metadata": {},
   "outputs": [
    {
     "name": "stdout",
     "output_type": "stream",
     "text": [
      "\t\tBefore:\n",
      "Good                           23\n",
      "<3 CH ADNAN ANSAR GUJJAR <3    18\n",
      ":D                             18\n",
      "Nice                           17\n",
      "Hahaha                         15\n",
      "Shikra                         12\n",
      "                               11\n",
      "Beshak                         10\n",
      "Haha                           10\n",
      "                                9\n",
      "Name: text, dtype: int64\n",
      "\n",
      "\n",
      "\t\tAfter:\n",
      "                               113\n",
      "Good                            23\n",
      ":D                              18\n",
      "<3 CH ADNAN ANSAR GUJJAR <3     18\n",
      "Nice                            17\n",
      "Hahaha                          15\n",
      "Shikra                          12\n",
      "Haha                            10\n",
      "Beshak                          10\n",
      "Right                            9\n",
      "Name: text, dtype: int64\n"
     ]
    }
   ],
   "source": [
    "# Before consolidating blanks and empty values, display the value counts\n",
    "print(\"\\t\\tBefore:\\n\", urdu_df['text'].value_counts(dropna=False).head(10), sep='')\n",
    "\n",
    "# Remove line breaks\n",
    "urdu_df['text'] = urdu_df['text'].str.replace('\\n', ' ', regex=True)\n",
    "\n",
    "# Consolidate blanks and empty values \n",
    "urdu_df.loc[urdu_df['text'].fillna('').str.isspace(), 'text'] = \"\"\n",
    "urdu_df['text'] = urdu_df['text'].fillna('')\n",
    "\n",
    "# Display the value counts after consolidation\n",
    "print(\"\\n\\n\\t\\tAfter:\\n\", urdu_df['text'].value_counts(dropna=False).head(10), sep='')"
   ]
  },
  {
   "cell_type": "code",
   "execution_count": 10,
   "metadata": {},
   "outputs": [
    {
     "name": "stdout",
     "output_type": "stream",
     "text": [
      "urdu_df shape:\n",
      "(19648, 2)\n"
     ]
    }
   ],
   "source": [
    "# Remove duplicates\n",
    "urdu_df = urdu_df.drop_duplicates()\n",
    "\n",
    "# Display the shape of the DataFrame after removing duplicates\n",
    "print(\"urdu_df shape:\")\n",
    "print(urdu_df.shape)"
   ]
  },
  {
   "cell_type": "code",
   "execution_count": null,
   "metadata": {},
   "outputs": [],
   "source": []
  },
  {
   "cell_type": "markdown",
   "metadata": {},
   "source": [
    "## Use the Openai package to identify the dominant language in each row"
   ]
  },
  {
   "cell_type": "markdown",
   "metadata": {},
   "source": [
    "#### Define the necessary openai API functions"
   ]
  },
  {
   "cell_type": "code",
   "execution_count": 11,
   "metadata": {},
   "outputs": [],
   "source": [
    "# Set a OPEN_AI_KEY variable to one of your openai API keys\n",
    "client = OpenAI(api_key=os.environ.get(\"OPENAI_API_KEY\")) \n",
    "\n",
    "\n",
    "def get_response(df_batch, model=\"gpt-3.5-turbo\",\n",
    "                 doc_col = 'text',\n",
    "                 intro_context = \"Classify the dominant language for each of the following texts:\",\n",
    "                 outro_context = \"The acceptable responses for each row are 'Roman Urdu' or 'English'. If unsure, pick 'Roman Urdu'.\"):\n",
    "    \"\"\"\n",
    "    Function to classify dominant language.\n",
    "    Requires custom logic into the OpenAI model.\n",
    "\n",
    "    Args:\n",
    "        df_batch (pd.DataFrame): A batch of data containing text to classify.\n",
    "        model (str): The OpenAI model to use.\n",
    "\n",
    "    Returns:\n",
    "        OpenAIResponse: The response object from the OpenAI API.\n",
    "    \"\"\"\n",
    "    \n",
    "    # Wrap the prompt text in context clarifying the question for chatGPT\n",
    "    prompt_batch = '\\n'.join([f\"{i}. [{text}]\" for i, text in df_batch[doc_col].items()])\n",
    "    message_batch = [\n",
    "                {\"role\": \"user\", \"content\": intro_context},\n",
    "                {\"role\": \"user\", \"content\": prompt_batch},\n",
    "                {\"role\": \"user\", \"content\": outro_context}\n",
    "    ]\n",
    "    \n",
    "    # Request the response from the chatGPT API\n",
    "    response = client.chat.completions.create(\n",
    "        model=model,\n",
    "        messages=message_batch,\n",
    "        temperature=0.0, \n",
    "        max_tokens = 2000 \n",
    "    )\n",
    "    \n",
    "    return response\n",
    "\n",
    "def process_rows(df, indices, output_column = 'language'):\n",
    "    \"\"\" \n",
    "    Process a batch of rows from the DataFrame to identify the dominant language.\n",
    "    \n",
    "    Args:\n",
    "        df (pd.DataFrame): The DataFrame containing text data.\n",
    "        indices (list): List of indices of rows to be processed.\n",
    "\n",
    "    Returns:\n",
    "        pd.DataFrame: The DataFrame with updated language classifications.\n",
    "    \"\"\"\n",
    "    \n",
    "    if len(indices) == 0:\n",
    "        return df\n",
    "    \n",
    "    else:\n",
    "        df_batch = df.loc[indices].copy(deep=True)\n",
    "        \n",
    "        # Get responses from OpenAI\n",
    "        response = get_response(df_batch)\n",
    "\n",
    "        # Extract and populate the mapping dictionary\n",
    "        mapping = {}\n",
    "        response_text = response.choices[0].message.content\n",
    "        lines = response_text.split('\\n')\n",
    "        for line in lines:\n",
    "            parts = line.split('. ', 1)\n",
    "            if len(parts) == 2:\n",
    "                number, text = parts\n",
    "                try:\n",
    "                    mapping[int(number)] = text\n",
    "                except ValueError as e:\n",
    "                    print(f\"An error occurred: {e}\")\n",
    "                    print(f\"\\nnumber failed to convert: {number}\")\n",
    "                    print(f\"\\ntext: {text}\")\n",
    "                \n",
    "        # Map the 'language' column\n",
    "        df.loc[df_batch.index, output_column] = df_batch.index.map(mapping)\n",
    "        try:\n",
    "            df[output_column] = df[output_column].str.strip()\n",
    "        except AttributeError as a:\n",
    "            print(f\"An error occurred: {a}\")\n",
    "            print(f\"\\ndf[output_column].str.strip() failed:\")\n",
    "            print(f\"\\ndf[output_column].unique(): {df[output_column].unique()}\")\n",
    "        \n",
    "        return df\n",
    "    \n",
    "def process_dataframe_in_batches(df, batch_size):\n",
    "    \"\"\"\n",
    "    Process a DataFrame in batches using the process_rows() function.\n",
    "\n",
    "    Args:\n",
    "        df (pd.DataFrame): The DataFrame to be processed.\n",
    "        batch_size (int): The size of each batch.\n",
    "\n",
    "    Returns:\n",
    "        pd.DataFrame: The processed DataFrame.\n",
    "\n",
    "    Example:\n",
    "        processed_df = process_dataframe_in_batches(urdu_df_lang, 10)\n",
    "    \"\"\"\n",
    "    \n",
    "    # Designate the number of batches\n",
    "    num_batches = len(df) // batch_size + 1\n",
    "    \n",
    "    # Loop each batch through process_rows()\n",
    "    for i in range(num_batches):\n",
    "        start_idx = i * batch_size\n",
    "        end_idx = min(start_idx + batch_size, len(df))\n",
    "        batch_indices = list(df.index[start_idx:end_idx])\n",
    "        \n",
    "        df = process_rows(df, batch_indices)\n",
    "    \n",
    "    return df"
   ]
  },
  {
   "cell_type": "code",
   "execution_count": null,
   "metadata": {},
   "outputs": [],
   "source": []
  },
  {
   "cell_type": "markdown",
   "metadata": {},
   "source": [
    "##### Initial run to obtain the dominant language for each row"
   ]
  },
  {
   "cell_type": "code",
   "execution_count": 12,
   "metadata": {},
   "outputs": [
    {
     "data": {
      "text/plain": [
       "Roman Urdu                                                    18754\n",
       "English                                                         758\n",
       "NaN                                                             116\n",
       "Urdu                                                             14\n",
       "Arabic                                                            2\n",
       "Unable to classify without text                                   1\n",
       "Spanish                                                           1\n",
       "Unable to classify as it contains only symbols and spaces.        1\n",
       "Hindi                                                             1\n",
       "Name: language, dtype: int64"
      ]
     },
     "execution_count": 12,
     "metadata": {},
     "output_type": "execute_result"
    }
   ],
   "source": [
    "# Create a deep copy of urdu_df\n",
    "urdu_df_lang = urdu_df.copy(deep=True)\n",
    "\n",
    "# Define the batch size\n",
    "batch_size = 10\n",
    "\n",
    "# Process the DataFrame in batches to obtain the dominant language for each row\n",
    "urdu_df_lang = process_dataframe_in_batches(urdu_df_lang, batch_size)\n",
    "urdu_df_lang.language.value_counts(dropna=False)\n"
   ]
  },
  {
   "cell_type": "code",
   "execution_count": null,
   "metadata": {},
   "outputs": [],
   "source": []
  },
  {
   "cell_type": "markdown",
   "metadata": {},
   "source": [
    "##### Loop straggling nulls through the openai API a few more times"
   ]
  },
  {
   "cell_type": "code",
   "execution_count": 13,
   "metadata": {},
   "outputs": [
    {
     "name": "stdout",
     "output_type": "stream",
     "text": [
      "Value counts after run 1:\n",
      "\n",
      "Roman Urdu    18840\n",
      "English         777\n",
      "NaN              30\n",
      "Spanish           1\n",
      "Name: language, dtype: int64\n",
      "\n",
      "\n",
      "Value counts after run 2:\n",
      "\n",
      "Roman Urdu    18840\n",
      "English         777\n",
      "NaN              31\n",
      "Name: language, dtype: int64\n",
      "\n",
      "\n",
      "Value counts after run 3:\n",
      "\n",
      "Roman Urdu    18840\n",
      "English         777\n",
      "NaN              31\n",
      "Name: language, dtype: int64\n",
      "\n",
      "\n"
     ]
    }
   ],
   "source": [
    "# Initialize variables\n",
    "max_runs = 3\n",
    "current_run = 0\n",
    "rerun_mask = (urdu_df_lang['language'] != \"Roman Urdu\") & (urdu_df_lang['language'] != \"English\") #urdu_df_lang['language'].isnull()\n",
    "urdu_df_lang_filtered = urdu_df_lang.loc[rerun_mask].copy(deep=True)\n",
    "\n",
    "while not urdu_df_lang_filtered.empty and current_run < max_runs:\n",
    "    \n",
    "    # Process null values through the OpenAI API\n",
    "    urdu_df_lang_filtered = process_dataframe_in_batches(urdu_df_lang_filtered, batch_size)\n",
    "        \n",
    "    # update the dataframes, the rerun_mask, and the current_run \n",
    "    urdu_df_lang.loc[rerun_mask, ['language']] = urdu_df_lang_filtered.loc[:, ['language']].copy(deep=True)\n",
    "    rerun_mask = (urdu_df_lang['language'] != \"Roman Urdu\") & (urdu_df_lang['language'] != \"English\")\n",
    "    urdu_df_lang_filtered = urdu_df_lang.loc[rerun_mask].copy(deep=True)\n",
    "    current_run += 1\n",
    "    print(f\"Value counts after run {current_run}:\\n\\n{urdu_df_lang['language'].value_counts(dropna=False)}\\n\\n\")"
   ]
  },
  {
   "cell_type": "code",
   "execution_count": 14,
   "metadata": {},
   "outputs": [
    {
     "name": "stdout",
     "output_type": "stream",
     "text": [
      "                                                   text sentiment language\n",
      "1972  jo apni makhsoos tarz-e-mazah aur do maeyne gu...  Positive      NaN\n",
      "1973   Ashfaq Ahmed apne dramon mein plot se ziyada ...  Positive      NaN\n",
      "1974   Urdu ke do naamwar adeeb Mumtaz Mufti aur Qud...  Positive      NaN\n",
      "1975   Raja gidh novel ki khaliq Bano Qudsiya Urdu k...  Positive      NaN\n",
      "1976   Ek munfarid afsana nigar, ek be-badal nasar n...  Positive      NaN\n",
      "1977  Urdu adab ke bohat se naqadeen ke nazdeek Faiz...  Positive      NaN\n",
      "1978               Ap ke walid aik ilm pasand aadmi the  Positive      NaN\n",
      "1979   Aap ke usatzaa mein Mir Maulvi Shams ul Haq (...  Positive      NaN\n",
      "1980   1947 se 1958 ke darmiyan aap mukhtalif adbi r...  Positive      NaN\n",
      "1981           Ap ko 2 April 1955 ko riha kar diya gaya  Positive      NaN\n",
      "1992  pehla resala 1933 mein Chaudhry Rehmat Ali ne ...  Positive      NaN\n",
      "1993  Hindustan mein haft Roza “Pakistan” June 1936 ...  Positive      NaN\n",
      "1994  1937 mein Punjab key Maulvi Ibrahim Ali Chusht...  Positive      NaN\n",
      "1995   7 Augusst 1937 ki Nawab Ahmed Yar Khan Daulta...  Positive      NaN\n",
      "1996  Pakistan key nam sey dosra resala Qanoon saz A...  Positive      NaN\n",
      "1997   Iss mein Maulvi Mohammed Farooq Dewana Gorakh...  Positive      NaN\n",
      "1998  Islam den e fitrat hai jis mein ese zawabit pa...  Positive      NaN\n",
      "1999  Islam khatoon ki izat aur toqeer ka dars deta hai  Positive      NaN\n",
      "2000  Isi fitri zarorat ke pesh e nazar Islam khatoo...  Positive      NaN\n",
      "2001  Kyun ke ye Hawa ki beti ka mamla hai, imtiaz k...  Positive      NaN\n",
      "2012  Is muzahire ke bad peter grad mein hartaal hoi...  Positive      NaN\n",
      "2013  Almi satah par rosi khawateen ki is jurat ko s...  Positive      NaN\n",
      "2014  1960 ki dehai ke akhir mein khawateen ki tehri...  Positive      NaN\n",
      "2015  Shuru mein socialist paas e manzar ke bais Ame...  Positive      NaN\n",
      "2016  1975 se 1995 tak khawateen ki char (4) almi co...  Positive      NaN\n",
      "2017  In conferences mein khawateen ke infaradi masa...  Positive      NaN\n",
      "2018  Ye naya musawida e qanon mustaqbil mein Pakist...  Positive      NaN\n",
      "2019  Duniya ke har mullk mein aain ki bunyadi amara...  Positive      NaN\n",
      "2020  In mein sheriyon ko khush haali, azadi, masawa...  Positive      NaN\n",
      "2021  Riyasat is dastawez ke zarye is baat ko taslee...  Positive      NaN\n",
      "8559                   que hermosa,....ohhhhhh Nazia!!!   Neutral      NaN\n"
     ]
    }
   ],
   "source": [
    "# View any remaining straggler rows\n",
    "print(urdu_df_lang_filtered)"
   ]
  },
  {
   "cell_type": "markdown",
   "metadata": {},
   "source": [
    "#### Print the final dominant language count"
   ]
  },
  {
   "cell_type": "code",
   "execution_count": 15,
   "metadata": {},
   "outputs": [
    {
     "name": "stdout",
     "output_type": "stream",
     "text": [
      "Roman Urdu    18840\n",
      "English         777\n",
      "NaN              31\n",
      "Name: language, dtype: int64\n"
     ]
    }
   ],
   "source": [
    "print(f\"{urdu_df_lang['language'].value_counts(dropna=False)}\")"
   ]
  },
  {
   "cell_type": "code",
   "execution_count": 16,
   "metadata": {},
   "outputs": [],
   "source": [
    "# Optionally save a backup copy of API data\n",
    "# urdu_df_lang.to_csv('urdu_df_lang.csv', index=False)"
   ]
  },
  {
   "cell_type": "code",
   "execution_count": null,
   "metadata": {},
   "outputs": [],
   "source": []
  },
  {
   "cell_type": "markdown",
   "metadata": {},
   "source": [
    "## Additional Wrangling"
   ]
  },
  {
   "cell_type": "markdown",
   "metadata": {},
   "source": [
    "#### Filter to only Roman Urdu rows for processing"
   ]
  },
  {
   "cell_type": "code",
   "execution_count": 17,
   "metadata": {},
   "outputs": [],
   "source": [
    "urdu_df_lang = urdu_df_lang[urdu_df_lang['language'] == \"Roman Urdu\"]"
   ]
  },
  {
   "cell_type": "markdown",
   "metadata": {},
   "source": [
    "#### Generate length column and examine counts"
   ]
  },
  {
   "cell_type": "code",
   "execution_count": 18,
   "metadata": {},
   "outputs": [
    {
     "data": {
      "image/png": "[encoded data removed]",
      "text/plain": [
       "<Figure size 640x480 with 1 Axes>"
      ]
     },
     "metadata": {},
     "output_type": "display_data"
    }
   ],
   "source": [
    "# Calculate and fill the 'length' column with the text character lengths\n",
    "urdu_df_lang['length'] = urdu_df_lang['text'].str.len().fillna(0)\n",
    "\n",
    "# Calculate the average character length for each sentiment and graph it\n",
    "average_lengths = urdu_df_lang.groupby('sentiment')['length'].mean()\n",
    "average_lengths.plot(kind='bar', title='Average Character Length by Sentiment', xlabel='', ylabel='Average Text Length', rot=0, color=['r', 'b', 'g'])\n",
    "average_lengths\n",
    "\n",
    "# Calculate alternative 'Negative' target label column\n",
    "urdu_df['Negative'] = (urdu_df['sentiment'] == 'Negative').astype(int)\n",
    "\n"
   ]
  },
  {
   "cell_type": "markdown",
   "metadata": {},
   "source": [
    "#### Initialize Data Processing Variables"
   ]
  },
  {
   "cell_type": "code",
   "execution_count": 19,
   "metadata": {},
   "outputs": [],
   "source": [
    "# Create a TfidfVectorizer to convert text into numerical features\n",
    "vectorizer = TfidfVectorizer(dtype=np.float32, ngram_range = (1,2), min_df=2) # Could also introduce as a Pipeline() step\n",
    "\n",
    "# Initialize Scaler\n",
    "scaler = StandardScaler()\n",
    "\n",
    "# Additional column features\n",
    "extra_features = ['length']\n",
    "\n",
    "# Identify Target Label\n",
    "y_col = 'sentiment'"
   ]
  },
  {
   "cell_type": "markdown",
   "metadata": {},
   "source": [
    "#### Split and process the training and test sets for prediction"
   ]
  },
  {
   "cell_type": "code",
   "execution_count": 20,
   "metadata": {},
   "outputs": [],
   "source": [
    "# Split Data for Classification of Sentiment\n",
    "X_train, X_test, y_train, y_test = train_test_split(urdu_df_lang[['text'] + extra_features], urdu_df_lang[y_col], test_size=0.2, random_state=42)"
   ]
  },
  {
   "cell_type": "code",
   "execution_count": 21,
   "metadata": {},
   "outputs": [],
   "source": [
    "# Fit and Transform X_train \n",
    "X_train_tfidf_features = vectorizer.fit_transform(X_train['text']) # fit and transform\n",
    "X_train_length_column = scaler.fit_transform(np.array(X_train[extra_features]).reshape(-1, 1))\n",
    "\n",
    "# List of features used for prediction\n",
    "feature_names = vectorizer.get_feature_names_out()\n",
    "\n",
    "# Combine X_train TF-IDF features with additional length information\n",
    "X_train_bow = hstack((X_train_tfidf_features, X_train_length_column))\n",
    "X_train_bow = X_train_bow.tocsr()\n",
    "\n",
    "# Transform X_test\n",
    "X_test_tfidf_features = vectorizer.transform(X_test['text']) # transform only\n",
    "X_test_length_column = scaler.transform(np.array(X_test[extra_features]).reshape(-1, 1))\n",
    "\n",
    "# Combine X_test TF-IDF features with additional length information\n",
    "X_test_bow = hstack((X_test_tfidf_features, X_test_length_column))\n",
    "X_test_bow = X_test_bow.tocsr()"
   ]
  },
  {
   "cell_type": "code",
   "execution_count": null,
   "metadata": {},
   "outputs": [],
   "source": []
  },
  {
   "cell_type": "markdown",
   "metadata": {},
   "source": [
    "## Model Selection and HyperParameter Tuning"
   ]
  },
  {
   "cell_type": "markdown",
   "metadata": {},
   "source": [
    "#### Model Configurations"
   ]
  },
  {
   "cell_type": "code",
   "execution_count": 22,
   "metadata": {},
   "outputs": [],
   "source": [
    "# Define a dictionary of classification models and update via hyperparameter tuning\n",
    "n_cores = -1\n",
    "\n",
    "classification_model_dict = {\n",
    "    \"LinearSVC\": Pipeline([\n",
    "        ('clf', LinearSVC(C=0.1, max_iter=2000, class_weight = {'Negative':1.8, 'Neutral':1, 'Positive':1}, random_state=0))\n",
    "    ]),\n",
    "    \"LGBMClassifier\": Pipeline([\n",
    "        ('clf', LGBMClassifier(n_jobs=n_cores, class_weight = {'Negative':1.2, 'Neutral':1, 'Positive':1},  random_state=0))\n",
    "    ]),\n",
    "    \"SGDClassifier\": Pipeline([\n",
    "        ('clf', SGDClassifier(n_jobs=n_cores, class_weight = {'Negative':1.2, 'Neutral':1, 'Positive':1},  random_state=0))\n",
    "    ]),\n",
    "    \"LogisticRegression\": Pipeline([\n",
    "        ('clf', LogisticRegression(max_iter=300, multi_class='auto', class_weight = {'Negative':1.2, 'Neutral':1, 'Positive':1}, random_state=0))\n",
    "    ])\n",
    "}"
   ]
  },
  {
   "cell_type": "markdown",
   "metadata": {},
   "source": [
    "#### Hyperparameter Tuning"
   ]
  },
  {
   "cell_type": "code",
   "execution_count": 23,
   "metadata": {},
   "outputs": [
    {
     "name": "stdout",
     "output_type": "stream",
     "text": [
      "Fitting 3 folds for each of 1 candidates, totalling 3 fits\n"
     ]
    },
    {
     "name": "stdout",
     "output_type": "stream",
     "text": [
      "{'C': 1.0, 'class_weight': {'Negative': 1.2, 'Neutral': 1, 'Positive': 1}, 'max_iter': 300, 'penalty': 'l2', 'solver': 'lbfgs'} 0.6284501061571125\n"
     ]
    }
   ],
   "source": [
    "# Define grid search parameters for each model (final results shown)\n",
    "param_grid_models = {\n",
    "    \"LinearSVC\": {\n",
    "        'penalty': ['l2'],\n",
    "        'loss': ['squared_hinge'],\n",
    "        'C': [0.1],\n",
    "        'multi_class': ['ovr'],\n",
    "        'max_iter': [2000],\n",
    "        'class_weight': [{'Negative':1.8, 'Neutral':1, 'Positive':1}] # [{'Negative':weight, 'Neutral':1, 'Positive':1} for weight in [round(x, 2) for x in np.arange(1.0, 3.1, 0.2)]]\n",
    "    },\n",
    "    \"LGBMClassifier\": {\n",
    "        'learning_rate': [0.1],\n",
    "        'num_leaves': [31],\n",
    "        'max_depth': [-1],\n",
    "        'n_estimators': [100],\n",
    "        'class_weight': [{'Negative':1.2, 'Neutral':1, 'Positive':1}] \n",
    "    },\n",
    "    \"SGDClassifier\": {\n",
    "        'alpha': [0.0001],\n",
    "        'loss': ['hinge'],\n",
    "        'penalty': ['l2'],\n",
    "        'max_iter': [1000],\n",
    "        'class_weight': [{'Negative':1.2, 'Neutral':1, 'Positive':1}]\n",
    "    },\n",
    "    \"LogisticRegression\": {\n",
    "        'penalty': ['l2'],\n",
    "        'C': [1.0],\n",
    "        'solver': ['lbfgs'],\n",
    "        'max_iter': [300],\n",
    "        'class_weight': [{'Negative':1.2, 'Neutral':1, 'Positive':1}]\n",
    "    }\n",
    "}\n",
    "\n",
    "# Specify the model to tune\n",
    "model_to_tune = \"LogisticRegression\"\n",
    "\n",
    "# Perform grid search for hyperparameter tuning\n",
    "grid_search = GridSearchCV(\n",
    "    classification_model_dict[model_to_tune]['clf'],\n",
    "    param_grid=param_grid_models[model_to_tune],\n",
    "    scoring='accuracy',\n",
    "    n_jobs=n_cores,\n",
    "    verbose=4,\n",
    "    cv=3\n",
    ")\n",
    "\n",
    "# Fit the grid search to the training data\n",
    "grid_search.fit(X_train_bow, y_train)\n",
    "\n",
    "# Retrieve the best hyperparameters and best score\n",
    "best_params = grid_search.best_params_\n",
    "best_score = grid_search.best_score_\n",
    "print(best_params, best_score)"
   ]
  },
  {
   "cell_type": "markdown",
   "metadata": {},
   "source": [
    "#### Evaluate the Classification Model Metrics for the highest performing model: SGDClassifier."
   ]
  },
  {
   "cell_type": "code",
   "execution_count": 24,
   "metadata": {},
   "outputs": [],
   "source": [
    "# Create an empty dictionary to store model accuracies\n",
    "model_accuracies = {}\n",
    "model_f1scores_weighted = {}\n",
    "model_accuracies_negative = {}\n",
    "model_f1scores_negative = {}\n",
    "\n",
    "# Loop through each model in the classification_model_dict\n",
    "for model_name, classifier in classification_model_dict.items():\n",
    "    # Fit the model on the training data\n",
    "    classifier.fit(X_train_bow, y_train)\n",
    "    \n",
    "    # Make predictions on the test data\n",
    "    y_pred = classifier.predict(X_test_bow)\n",
    "    \n",
    "    # Calculate accuracy and store it in the model_accuracies dictionary\n",
    "    accuracy = accuracy_score(y_test, y_pred)\n",
    "    model_accuracies[model_name] = accuracy\n",
    "    \n",
    "    # Calculate weighted F1 Score and store it in the f1_scores_weighted dictionary\n",
    "    f1score_weighted = f1_score(y_test, y_pred, average='weighted')\n",
    "    model_f1scores_weighted[model_name] = f1score_weighted\n",
    "    \n",
    "    # Calculate TP, TN, FP, FN for the \"Negative\" label\n",
    "    negative_target_label = \"Negative\"\n",
    "    tp = sum((y_test == negative_target_label) & (y_pred == negative_target_label))\n",
    "    tn = sum((y_test != negative_target_label) & (y_pred != negative_target_label))\n",
    "    fp = sum((y_test != negative_target_label) & (y_pred == negative_target_label))\n",
    "    fn = sum((y_test == negative_target_label) & (y_pred != negative_target_label))\n",
    "    \n",
    "    # Calculate accuracy for the \"Negative\" label\n",
    "    accuracy_negative = (tp + tn) / (tp + tn + fp + fn)\n",
    "    model_accuracies_negative[model_name] = accuracy_negative \n",
    "\n",
    "    # Calculate the f1 score for the \"Negative\" label\n",
    "    f1_score_negative = f1_score(y_test, y_pred, labels=[negative_target_label], average=None)[0]\n",
    "    model_f1scores_negative[model_name] = f1_score_negative"
   ]
  },
  {
   "cell_type": "code",
   "execution_count": 25,
   "metadata": {},
   "outputs": [
    {
     "name": "stdout",
     "output_type": "stream",
     "text": [
      "Total Accuracy (Top Priority)\n",
      "LinearSVC: 0.642\n",
      "LGBMClassifier: 0.632\n",
      "SGDClassifier: 0.648\n",
      "LogisticRegression: 0.647\n",
      "\n",
      "\n",
      "\"Negative\"s Accuracy\n",
      "LinearSVC: 0.774\n",
      "LGBMClassifier: 0.771\n",
      "SGDClassifier: 0.785\n",
      "LogisticRegression: 0.787\n",
      "\n",
      "\n",
      "Weighted F1 Score\n",
      "LinearSVC: 0.642\n",
      "LGBMClassifier: 0.629\n",
      "SGDClassifier: 0.646\n",
      "LogisticRegression: 0.646\n",
      "\n",
      "\n",
      "\"Negative\"s F1 Score\n",
      "LinearSVC: 0.598\n",
      "LGBMClassifier: 0.56\n",
      "SGDClassifier: 0.575\n",
      "LogisticRegression: 0.588\n",
      "\n",
      "\n"
     ]
    }
   ],
   "source": [
    "# Define the metrics\n",
    "metrics_to_display = {\n",
    "    \"Total Accuracy (Top Priority)\": model_accuracies,\n",
    "    \"\\\"Negative\\\"s Accuracy\": model_accuracies_negative,\n",
    "    \"Weighted F1 Score\": model_f1scores_weighted,\n",
    "    \"\\\"Negative\\\"s F1 Score\": model_f1scores_negative,\n",
    "}\n",
    "\n",
    "# Loop through each metric and display the results\n",
    "for metric_name, metric_dict in metrics_to_display.items():\n",
    "    print(f\"{metric_name}\")\n",
    "    for model, value in metric_dict.items():\n",
    "        print(f\"{model}: {round(value, 3)}\")\n",
    "    print(\"\\n\")\n"
   ]
  },
  {
   "cell_type": "code",
   "execution_count": null,
   "metadata": {},
   "outputs": [],
   "source": []
  },
  {
   "cell_type": "markdown",
   "metadata": {},
   "source": [
    "## Check for a tradeoff between Total Accuracy and 'Negative' Sentiment Accuracy"
   ]
  },
  {
   "cell_type": "markdown",
   "metadata": {},
   "source": [
    "#### Conclusion: No tradeoff is possible. "
   ]
  },
  {
   "cell_type": "code",
   "execution_count": 26,
   "metadata": {
    "tags": []
   },
   "outputs": [],
   "source": [
    "# Create dictionaries to store model metrics\n",
    "model_accuracy_lists = {}\n",
    "model_accuracy_negative_lists = {}\n",
    "model_f1score_weighted_lists = {}\n",
    "model_f1score_negative_lists = {}\n",
    "\n",
    "# Define the range of class weights\n",
    "weight_range = [round(x, 2) for x in np.arange(1.0, 2.6, 0.1)]\n",
    "\n",
    "# Loop through each model in the classification_model_dict\n",
    "for model_name, classifier in classification_model_dict.items():\n",
    "    model_accuracy_lists[model_name] = []\n",
    "    model_accuracy_negative_lists[model_name] = []\n",
    "    model_f1score_weighted_lists[model_name] = []\n",
    "    model_f1score_negative_lists[model_name] = []\n",
    "    \n",
    "    for weight in weight_range:\n",
    "        modified_classifier = clone(classifier['clf'])\n",
    "        modified_classifier.set_params(class_weight={'Negative': weight, 'Neutral': 1, 'Positive': 1})\n",
    "        \n",
    "        # Fit the model on the training data\n",
    "        modified_classifier.fit(X_train_bow, y_train)\n",
    "        \n",
    "        # Make predictions on the test data\n",
    "        y_pred = modified_classifier.predict(X_test_bow)\n",
    "        \n",
    "        # Calculate and store accuracy\n",
    "        accuracy = accuracy_score(y_test, y_pred)\n",
    "        model_accuracy_lists[model_name].append(accuracy)\n",
    "        \n",
    "        # Calculate and store weighted f1score\n",
    "        f1score_weighted = f1_score(y_test, y_pred, average='weighted')\n",
    "        model_f1score_weighted_lists[model_name].append(f1score_weighted)\n",
    "        \n",
    "        # Calculate TP, TN, FP, FN for the \"Negative\" label\n",
    "        negative_target_label = \"Negative\"\n",
    "        tp = sum((y_test == negative_target_label) & (y_pred == negative_target_label))\n",
    "        tn = sum((y_test != negative_target_label) & (y_pred != negative_target_label))\n",
    "        fp = sum((y_test != negative_target_label) & (y_pred == negative_target_label))\n",
    "        fn = sum((y_test == negative_target_label) & (y_pred != negative_target_label))\n",
    "        \n",
    "        # Calculate and store accuracy for the \"Negative\" label\n",
    "        accuracy_negative = (tp + tn) / (tp + tn + fp + fn)\n",
    "        model_accuracy_negative_lists[model_name].append(accuracy_negative)\n",
    "\n",
    "        # Calculate and store the f1 score for the \"Negative\" label\n",
    "        f1_score_negative = f1_score(y_test, y_pred, labels=[negative_target_label], average=None)[0]\n",
    "        model_f1score_negative_lists[model_name].append(f1_score_negative)\n"
   ]
  },
  {
   "cell_type": "code",
   "execution_count": 27,
   "metadata": {},
   "outputs": [
    {
     "data": {
      "image/png": "[encoded data removed]",
      "text/plain": [
       "<Figure size 1000x600 with 1 Axes>"
      ]
     },
     "metadata": {},
     "output_type": "display_data"
    }
   ],
   "source": [
    "# Set the model to visualize\n",
    "model_visualized = 'SGDClassifier'\n",
    "\n",
    "# Create the line chart\n",
    "plt.figure(figsize=(10, 6))  # Set the figure size\n",
    "\n",
    "# Plot each line\n",
    "plt.plot(weight_range, model_accuracy_lists[model_visualized], label='Total Accuracy', marker='o')\n",
    "plt.plot(weight_range, model_accuracy_negative_lists[model_visualized], label='Negative Sentiment Accuracy', marker='s')\n",
    "\n",
    "# Clarify Plot\n",
    "plt.xlabel(\"\\\"Negative\\\" Sentiment Class Weight\")\n",
    "plt.ylabel(\"Metric\")\n",
    "plt.title(f\"Impact of increasing \\\"Negative Sentiment\\\" class weight\\n on {model_visualized} Accuracy\")\n",
    "plt.grid(True, linestyle='--', alpha=0.7)\n",
    "\n",
    "# Add legend\n",
    "plt.legend(fontsize='large')\n",
    "plt.show()"
   ]
  },
  {
   "cell_type": "code",
   "execution_count": null,
   "metadata": {},
   "outputs": [],
   "source": []
  },
  {
   "cell_type": "markdown",
   "metadata": {},
   "source": [
    "## Compare Accuracy of Multiclass Models vs Binary Models"
   ]
  },
  {
   "cell_type": "markdown",
   "metadata": {},
   "source": [
    "#### Conclusion: If willing to accept distinguishing between just Negative and non-Negative sentiments, Accuracy could be increased from 65% to 79%."
   ]
  },
  {
   "cell_type": "code",
   "execution_count": 30,
   "metadata": {},
   "outputs": [
    {
     "data": {
      "image/png": "[encoded data removed]",
      "text/plain": [
       "<Figure size 640x480 with 1 Axes>"
      ]
     },
     "metadata": {},
     "output_type": "display_data"
    }
   ],
   "source": [
    "combined_df = pd.DataFrame({\n",
    "    'All Sentiments': list(model_accuracies.values()),\n",
    "    'Negative \\nvs non-Negative': list(model_accuracies_negative.values())\n",
    "}, index=list(model_accuracies.keys())).T\n",
    "ax = combined_df.plot(kind='bar', ylim=(0,1), rot=0, xlabel='Models', ylabel='Accuracy (%)', legend=True, width=0.7)\n",
    "ax.set_title('Model Comparison: \\nMulticlass vs Binary Accuracy' )\n",
    "\n",
    "# Format the y-axis as percentages\n",
    "ax.yaxis.set_major_formatter(mtick.PercentFormatter(1.0, decimals=0))\n",
    "\n",
    "# Annotate bars with accuracy values\n",
    "for p in ax.patches:\n",
    "    ax.annotate(f'{p.get_height() * 100:.0f}%', (p.get_x() + p.get_width() / 2., p.get_height()), ha='center', va='center', fontsize=10, color='black', xytext=(0, 5), textcoords='offset points')\n",
    "\n",
    "# Show the plot\n",
    "plt.tight_layout()\n",
    "plt.show()\n",
    "\n"
   ]
  },
  {
   "cell_type": "code",
   "execution_count": null,
   "metadata": {},
   "outputs": [],
   "source": []
  },
  {
   "cell_type": "markdown",
   "metadata": {},
   "source": [
    "## Display Most Important \"Negative\" Sentiment Roman Urdu Features"
   ]
  },
  {
   "cell_type": "code",
   "execution_count": 31,
   "metadata": {},
   "outputs": [],
   "source": [
    "# Build X_train_df \n",
    "tfidf_X_train_df = pd.DataFrame(X_train_tfidf_features.toarray(), columns=vectorizer.get_feature_names_out())\n",
    "scaled_X_train = pd.DataFrame(scaler.fit_transform(X_train[extra_features]), columns=extra_features)\n",
    "X_train_df = pd.concat([tfidf_X_train_df, scaled_X_train.reset_index(drop=True)], axis=1)\n",
    "X_train_df.index += 1\n",
    "\n",
    "# Train best model on X_train_df\n",
    "best_model_classifier = classification_model_dict['SGDClassifier']['clf'].fit(X_train_df, y_train)\n",
    "\n",
    "# Derive Feature Importances\n",
    "feature_importances = best_model_classifier.coef_[0] # print( \"Order of classes in Model:\", SGD_clf.classes_)\n",
    "\n",
    "# Build feature_importance_df\n",
    "feature_importances_df = pd.DataFrame({'Feature Name': X_train_df.columns, 'Importance': feature_importances})\n",
    "\n",
    "# Sort and reset index of feature_importance_df\n",
    "feature_importances_df.sort_values(by=['Importance'], ascending=False, inplace=True)\n",
    "feature_importances_df.reset_index(drop=True, inplace=True)\n",
    "feature_importances_df.index += 1\n",
    "\n"
   ]
  },
  {
   "cell_type": "markdown",
   "metadata": {},
   "source": [
    "#### Display the Top 15 Negative Sentiment Features"
   ]
  },
  {
   "cell_type": "code",
   "execution_count": 32,
   "metadata": {},
   "outputs": [],
   "source": [
    "def feature_importance_display(top_features_df, feature_col=\"Feature\", score_col=\"Importance\", lang=\"Roman Urdu:\\n\", title=None):\n",
    "    \"\"\"\n",
    "    Display the top features and their importance scores in a horizontal bar chart.\n",
    "\n",
    "    Parameters:\n",
    "        top_features_df (pd.DataFrame): DataFrame containing the top features and their scores.\n",
    "        feature_col (str): Name of the column containing feature names.\n",
    "        score_col (str): Name of the column containing feature importance scores.\n",
    "        lang (str): Language label for the title.\n",
    "        title (str): Custom title for the plot (optional).\n",
    "\n",
    "    \"\"\"\n",
    "    # Create the bar chart\n",
    "    plt.barh(top_features_df[feature_col], top_features_df[score_col])\n",
    "    \n",
    "    # Customize plot attributes\n",
    "    plt.title(f\"{lang} Top {len(top_features_df)} Negative Sentiment Features\", fontsize=16) if title is None else plt.title(title, fontsize=16)\n",
    "    plt.gca().invert_yaxis()\n",
    "    plt.yticks(fontsize=14)\n",
    "    plt.xticks(fontsize=14)\n",
    "        \n",
    "    # Display the plot\n",
    "    plt.show()"
   ]
  },
  {
   "cell_type": "code",
   "execution_count": null,
   "metadata": {},
   "outputs": [],
   "source": []
  },
  {
   "cell_type": "code",
   "execution_count": 38,
   "metadata": {},
   "outputs": [
    {
     "data": {
      "image/png": "[encoded data removed]",
      "text/plain": [
       "<Figure size 640x480 with 1 Axes>"
      ]
     },
     "metadata": {},
     "output_type": "display_data"
    }
   ],
   "source": [
    "# Initialize Variables\n",
    "n = 15\n",
    "feature_importance_subdf = feature_importances_df.head(n)\n",
    "\n",
    "# Display the top Roman Urdu Feature Importances predicting the \"Negative\" Sentiment\n",
    "feature_importance_display(feature_importance_subdf, feature_col =\"Feature Name\", score_col = \"Importance\")"
   ]
  },
  {
   "cell_type": "markdown",
   "metadata": {},
   "source": [
    "#### Display the English Translation of the most important \"Negative\" Sentiment Features"
   ]
  },
  {
   "cell_type": "code",
   "execution_count": 40,
   "metadata": {},
   "outputs": [
    {
     "name": "stderr",
     "output_type": "stream",
     "text": [
      "c:\\AnacondaforJoe\\anaconda3\\lib\\site-packages\\ipykernel_launcher.py:3: SettingWithCopyWarning: \n",
      "A value is trying to be set on a copy of a slice from a DataFrame.\n",
      "Try using .loc[row_indexer,col_indexer] = value instead\n",
      "\n",
      "See the caveats in the documentation: https://pandas.pydata.org/pandas-docs/stable/user_guide/indexing.html#returning-a-view-versus-a-copy\n",
      "  This is separate from the ipykernel package so we can avoid doing imports until\n",
      "c:\\AnacondaforJoe\\anaconda3\\lib\\site-packages\\pandas\\core\\indexing.py:1773: SettingWithCopyWarning: \n",
      "A value is trying to be set on a copy of a slice from a DataFrame.\n",
      "Try using .loc[row_indexer,col_indexer] = value instead\n",
      "\n",
      "See the caveats in the documentation: https://pandas.pydata.org/pandas-docs/stable/user_guide/indexing.html#returning-a-view-versus-a-copy\n",
      "  self._setitem_single_column(ilocs[0], value, pi)\n"
     ]
    }
   ],
   "source": [
    "# Initialize Variables\n",
    "output_column = 'feature_translation'\n",
    "feature_importance_subdf[output_column] = \"\"\n",
    "\n",
    "# Call openai's API to translate the texts\n",
    "response = get_response(feature_importance_subdf, doc_col = [\"Feature Name\"], \n",
    "                        intro_context = \"Translate each of the following Roman Urdu word(s) into English:\", \n",
    "                        outro_context = \"\")\n",
    "\n",
    "# Extract and populate the mapping dictionary\n",
    "mapping = {}\n",
    "response_text = response.choices[0].message.content\n",
    "lines = response_text.split('\\n')\n",
    "for line in lines:\n",
    "    parts = line.split('. ', 1)\n",
    "    if len(parts) == 2:\n",
    "        number, text = parts\n",
    "        mapping[int(number)] = text\n",
    "        \n",
    "# Map the translated output to the output column\n",
    "feature_importance_subdf.loc[feature_importance_subdf.index, output_column] = feature_importance_subdf.index.map(mapping)\n"
   ]
  },
  {
   "cell_type": "code",
   "execution_count": 42,
   "metadata": {},
   "outputs": [
    {
     "data": {
      "image/png": "[encoded data removed]",
      "text/plain": [
       "<Figure size 640x480 with 1 Axes>"
      ]
     },
     "metadata": {},
     "output_type": "display_data"
    }
   ],
   "source": [
    "# Define a placeholder for censored text\n",
    "CENSORED_TEXT = 'CENSORED'\n",
    "\n",
    "# Combine translations and filter censored row\n",
    "feature_importance_subdf.loc[5, 'feature_translation'] = CENSORED_TEXT\n",
    "\n",
    "# Display the top English Translation of the Feature Importances predicting the \"Negative\" Sentiment\n",
    "feature_importance_display(feature_importance_subdf, feature_col =\"feature_translation\", score_col = \"Importance\", lang = \"English Translation:\\n\")\n",
    "\n"
   ]
  },
  {
   "cell_type": "code",
   "execution_count": null,
   "metadata": {},
   "outputs": [],
   "source": []
  },
  {
   "cell_type": "code",
   "execution_count": null,
   "metadata": {},
   "outputs": [],
   "source": [
    "\n"
   ]
  },
  {
   "cell_type": "code",
   "execution_count": null,
   "metadata": {},
   "outputs": [],
   "source": []
  },
  {
   "cell_type": "code",
   "execution_count": null,
   "metadata": {},
   "outputs": [],
   "source": []
  },
  {
   "cell_type": "code",
   "execution_count": null,
   "metadata": {},
   "outputs": [],
   "source": []
  },
  {
   "cell_type": "code",
   "execution_count": null,
   "metadata": {},
   "outputs": [],
   "source": []
  },
  {
   "cell_type": "code",
   "execution_count": null,
   "metadata": {},
   "outputs": [],
   "source": []
  },
  {
   "cell_type": "code",
   "execution_count": null,
   "metadata": {},
   "outputs": [],
   "source": []
  },
  {
   "cell_type": "code",
   "execution_count": null,
   "metadata": {},
   "outputs": [],
   "source": []
  },
  {
   "cell_type": "code",
   "execution_count": null,
   "metadata": {},
   "outputs": [],
   "source": []
  },
  {
   "cell_type": "code",
   "execution_count": null,
   "metadata": {},
   "outputs": [],
   "source": []
  },
  {
   "cell_type": "code",
   "execution_count": null,
   "metadata": {},
   "outputs": [],
   "source": [
    "# Roman Urdu Data Citation: Sharf,Zareen. (2018). Roman Urdu Data Set. UCI Machine Learning Repository. https://doi.org/10.24432/C58325."
   ]
  },
  {
   "cell_type": "markdown",
   "metadata": {},
   "source": [
    "Roman Urdu Data Citation: \\\n",
    "Sharf,Zareen. (2018). Roman Urdu Data Set. UCI Machine Learning Repository. https://doi.org/10.24432/C58325."
   ]
  }
 ],
 "metadata": {
  "kernelspec": {
   "display_name": "base",
   "language": "python",
   "name": "python3"
  },
  "language_info": {
   "codemirror_mode": {
    "name": "ipython",
    "version": 3
   },
   "file_extension": ".py",
   "mimetype": "text/x-python",
   "name": "python",
   "nbconvert_exporter": "python",
   "pygments_lexer": "ipython3",
   "version": "3.7.12"
  }
 },
 "nbformat": 4,
 "nbformat_minor": 2
}
